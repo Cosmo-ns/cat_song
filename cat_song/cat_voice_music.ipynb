{
 "cells": [
  {
   "cell_type": "code",
   "execution_count": 1,
   "metadata": {},
   "outputs": [
    {
     "name": "stdout",
     "output_type": "stream",
     "text": [
      "Requirement already satisfied: librosa in c:\\users\\cosmo\\anaconda3\\lib\\site-packages (0.10.2.post1)\n",
      "Requirement already satisfied: pydub in c:\\users\\cosmo\\anaconda3\\lib\\site-packages (0.25.1)\n",
      "Requirement already satisfied: sounddevice in c:\\users\\cosmo\\anaconda3\\lib\\site-packages (0.4.7)\n",
      "Requirement already satisfied: numpy in c:\\users\\cosmo\\anaconda3\\lib\\site-packages (1.26.4)\n",
      "Requirement already satisfied: audioread>=2.1.9 in c:\\users\\cosmo\\anaconda3\\lib\\site-packages (from librosa) (3.0.1)\n",
      "Requirement already satisfied: scipy>=1.2.0 in c:\\users\\cosmo\\anaconda3\\lib\\site-packages (from librosa) (1.13.1)\n",
      "Requirement already satisfied: scikit-learn>=0.20.0 in c:\\users\\cosmo\\anaconda3\\lib\\site-packages (from librosa) (1.5.1)\n",
      "Requirement already satisfied: joblib>=0.14 in c:\\users\\cosmo\\anaconda3\\lib\\site-packages (from librosa) (1.4.2)\n",
      "Requirement already satisfied: decorator>=4.3.0 in c:\\users\\cosmo\\anaconda3\\lib\\site-packages (from librosa) (5.1.1)\n",
      "Requirement already satisfied: numba>=0.51.0 in c:\\users\\cosmo\\anaconda3\\lib\\site-packages (from librosa) (0.60.0)\n",
      "Requirement already satisfied: soundfile>=0.12.1 in c:\\users\\cosmo\\anaconda3\\lib\\site-packages (from librosa) (0.12.1)\n",
      "Requirement already satisfied: pooch>=1.1 in c:\\users\\cosmo\\anaconda3\\lib\\site-packages (from librosa) (1.8.2)\n",
      "Requirement already satisfied: soxr>=0.3.2 in c:\\users\\cosmo\\anaconda3\\lib\\site-packages (from librosa) (0.5.0.post1)\n",
      "Requirement already satisfied: typing-extensions>=4.1.1 in c:\\users\\cosmo\\anaconda3\\lib\\site-packages (from librosa) (4.11.0)\n",
      "Requirement already satisfied: lazy-loader>=0.1 in c:\\users\\cosmo\\anaconda3\\lib\\site-packages (from librosa) (0.4)\n",
      "Requirement already satisfied: msgpack>=1.0 in c:\\users\\cosmo\\anaconda3\\lib\\site-packages (from librosa) (1.1.0)\n",
      "Requirement already satisfied: CFFI>=1.0 in c:\\users\\cosmo\\anaconda3\\lib\\site-packages (from sounddevice) (1.16.0)\n",
      "Requirement already satisfied: pycparser in c:\\users\\cosmo\\anaconda3\\lib\\site-packages (from CFFI>=1.0->sounddevice) (2.21)\n",
      "Requirement already satisfied: packaging in c:\\users\\cosmo\\anaconda3\\lib\\site-packages (from lazy-loader>=0.1->librosa) (24.1)\n",
      "Requirement already satisfied: llvmlite<0.44,>=0.43.0dev0 in c:\\users\\cosmo\\anaconda3\\lib\\site-packages (from numba>=0.51.0->librosa) (0.43.0)\n",
      "Requirement already satisfied: platformdirs>=2.5.0 in c:\\users\\cosmo\\anaconda3\\lib\\site-packages (from pooch>=1.1->librosa) (3.10.0)\n",
      "Requirement already satisfied: requests>=2.19.0 in c:\\users\\cosmo\\anaconda3\\lib\\site-packages (from pooch>=1.1->librosa) (2.32.3)\n",
      "Requirement already satisfied: threadpoolctl>=3.1.0 in c:\\users\\cosmo\\anaconda3\\lib\\site-packages (from scikit-learn>=0.20.0->librosa) (3.5.0)\n",
      "Requirement already satisfied: charset-normalizer<4,>=2 in c:\\users\\cosmo\\anaconda3\\lib\\site-packages (from requests>=2.19.0->pooch>=1.1->librosa) (3.3.2)\n",
      "Requirement already satisfied: idna<4,>=2.5 in c:\\users\\cosmo\\anaconda3\\lib\\site-packages (from requests>=2.19.0->pooch>=1.1->librosa) (3.8)\n",
      "Requirement already satisfied: urllib3<3,>=1.21.1 in c:\\users\\cosmo\\anaconda3\\lib\\site-packages (from requests>=2.19.0->pooch>=1.1->librosa) (2.2.2)\n",
      "Requirement already satisfied: certifi>=2017.4.17 in c:\\users\\cosmo\\anaconda3\\lib\\site-packages (from requests>=2.19.0->pooch>=1.1->librosa) (2024.8.30)\n",
      "Note: you may need to restart the kernel to use updated packages.\n"
     ]
    },
    {
     "name": "stderr",
     "output_type": "stream",
     "text": [
      "\n",
      "[notice] A new release of pip is available: 24.2 -> 24.3.1\n",
      "[notice] To update, run: python.exe -m pip install --upgrade pip\n"
     ]
    }
   ],
   "source": [
    "pip install librosa pydub sounddevice numpy"
   ]
  },
  {
   "cell_type": "code",
   "execution_count": 5,
   "metadata": {},
   "outputs": [
    {
     "name": "stdout",
     "output_type": "stream",
     "text": [
      "Requirement already satisfied: librosa in c:\\users\\cosmo\\anaconda3\\lib\\site-packages (0.10.2.post1)Note: you may need to restart the kernel to use updated packages.\n"
     ]
    },
    {
     "name": "stderr",
     "output_type": "stream",
     "text": [
      "\n",
      "[notice] A new release of pip is available: 24.2 -> 24.3.1\n",
      "[notice] To update, run: python.exe -m pip install --upgrade pip\n"
     ]
    },
    {
     "name": "stdout",
     "output_type": "stream",
     "text": [
      "\n",
      "Requirement already satisfied: numpy in c:\\users\\cosmo\\anaconda3\\lib\\site-packages (1.26.4)\n",
      "Requirement already satisfied: pydub in c:\\users\\cosmo\\anaconda3\\lib\\site-packages (0.25.1)\n",
      "Requirement already satisfied: audioread>=2.1.9 in c:\\users\\cosmo\\anaconda3\\lib\\site-packages (from librosa) (3.0.1)\n",
      "Requirement already satisfied: scipy>=1.2.0 in c:\\users\\cosmo\\anaconda3\\lib\\site-packages (from librosa) (1.13.1)\n",
      "Requirement already satisfied: scikit-learn>=0.20.0 in c:\\users\\cosmo\\anaconda3\\lib\\site-packages (from librosa) (1.5.1)\n",
      "Requirement already satisfied: joblib>=0.14 in c:\\users\\cosmo\\anaconda3\\lib\\site-packages (from librosa) (1.4.2)\n",
      "Requirement already satisfied: decorator>=4.3.0 in c:\\users\\cosmo\\anaconda3\\lib\\site-packages (from librosa) (5.1.1)\n",
      "Requirement already satisfied: numba>=0.51.0 in c:\\users\\cosmo\\anaconda3\\lib\\site-packages (from librosa) (0.60.0)\n",
      "Requirement already satisfied: soundfile>=0.12.1 in c:\\users\\cosmo\\anaconda3\\lib\\site-packages (from librosa) (0.12.1)\n",
      "Requirement already satisfied: pooch>=1.1 in c:\\users\\cosmo\\anaconda3\\lib\\site-packages (from librosa) (1.8.2)\n",
      "Requirement already satisfied: soxr>=0.3.2 in c:\\users\\cosmo\\anaconda3\\lib\\site-packages (from librosa) (0.5.0.post1)\n",
      "Requirement already satisfied: typing-extensions>=4.1.1 in c:\\users\\cosmo\\anaconda3\\lib\\site-packages (from librosa) (4.11.0)\n",
      "Requirement already satisfied: lazy-loader>=0.1 in c:\\users\\cosmo\\anaconda3\\lib\\site-packages (from librosa) (0.4)\n",
      "Requirement already satisfied: msgpack>=1.0 in c:\\users\\cosmo\\anaconda3\\lib\\site-packages (from librosa) (1.1.0)\n",
      "Requirement already satisfied: packaging in c:\\users\\cosmo\\anaconda3\\lib\\site-packages (from lazy-loader>=0.1->librosa) (24.1)\n",
      "Requirement already satisfied: llvmlite<0.44,>=0.43.0dev0 in c:\\users\\cosmo\\anaconda3\\lib\\site-packages (from numba>=0.51.0->librosa) (0.43.0)\n",
      "Requirement already satisfied: platformdirs>=2.5.0 in c:\\users\\cosmo\\anaconda3\\lib\\site-packages (from pooch>=1.1->librosa) (3.10.0)\n",
      "Requirement already satisfied: requests>=2.19.0 in c:\\users\\cosmo\\anaconda3\\lib\\site-packages (from pooch>=1.1->librosa) (2.32.3)\n",
      "Requirement already satisfied: threadpoolctl>=3.1.0 in c:\\users\\cosmo\\anaconda3\\lib\\site-packages (from scikit-learn>=0.20.0->librosa) (3.5.0)\n",
      "Requirement already satisfied: cffi>=1.0 in c:\\users\\cosmo\\anaconda3\\lib\\site-packages (from soundfile>=0.12.1->librosa) (1.16.0)\n",
      "Requirement already satisfied: pycparser in c:\\users\\cosmo\\anaconda3\\lib\\site-packages (from cffi>=1.0->soundfile>=0.12.1->librosa) (2.21)\n",
      "Requirement already satisfied: charset-normalizer<4,>=2 in c:\\users\\cosmo\\anaconda3\\lib\\site-packages (from requests>=2.19.0->pooch>=1.1->librosa) (3.3.2)\n",
      "Requirement already satisfied: idna<4,>=2.5 in c:\\users\\cosmo\\anaconda3\\lib\\site-packages (from requests>=2.19.0->pooch>=1.1->librosa) (3.8)\n",
      "Requirement already satisfied: urllib3<3,>=1.21.1 in c:\\users\\cosmo\\anaconda3\\lib\\site-packages (from requests>=2.19.0->pooch>=1.1->librosa) (2.2.2)\n",
      "Requirement already satisfied: certifi>=2017.4.17 in c:\\users\\cosmo\\anaconda3\\lib\\site-packages (from requests>=2.19.0->pooch>=1.1->librosa) (2024.8.30)\n"
     ]
    }
   ],
   "source": [
    "pip install librosa numpy pydub"
   ]
  },
  {
   "cell_type": "code",
   "execution_count": null,
   "metadata": {},
   "outputs": [
    {
     "name": "stderr",
     "output_type": "stream",
     "text": [
      "C:\\Users\\Cosmo\\AppData\\Local\\Temp\\ipykernel_9788\\2379539316.py:37: UserWarning: PySoundFile failed. Trying audioread instead.\n",
      "  cat_audio, sr = librosa.load(cat_audio_path, sr=None)\n"
     ]
    },
    {
     "name": "stdout",
     "output_type": "stream",
     "text": [
      "音楽データを cat_music_Btv_S_No9.wav に保存しました。\n"
     ]
    }
   ],
   "source": [
    "import librosa\n",
    "import numpy as np\n",
    "import sounddevice as sd\n",
    "import soundfile as sf  # ファイル保存用\n",
    "\n",
    "# 1. 猫の声のピッチを変更する関数\n",
    "def pitch_shift_cat_sound(cat_audio, sr, target_pitch):\n",
    "    pitches, magnitudes = librosa.piptrack(y=cat_audio, sr=sr)\n",
    "    avg_pitch = np.mean(pitches[pitches > 0])  # 平均ピッチを計算\n",
    "    semitones = 12 * np.log2(target_pitch / avg_pitch)  # ピッチシフト量（セミトーン）\n",
    "    shifted_audio = librosa.effects.pitch_shift(cat_audio, sr=sr, n_steps=semitones)\n",
    "    return shifted_audio\n",
    "\n",
    "# 2. 指定された音階に基づいて猫の声を生成\n",
    "def generate_cat_music(cat_audio, sr, melodies, durations):\n",
    "    music = []\n",
    "    for melody, duration_per_note in zip(melodies, durations):\n",
    "        for note_pitch in melody:\n",
    "            if note_pitch is not None:\n",
    "                shifted_audio = pitch_shift_cat_sound(cat_audio, sr, note_pitch)\n",
    "                num_samples = int(sr * duration_per_note)\n",
    "                shifted_audio = shifted_audio[:num_samples]\n",
    "                music.append(shifted_audio)\n",
    "            else:\n",
    "                music.append(np.zeros(int(sr * duration_per_note)))  # 無音（休符）\n",
    "    return np.concatenate(music)\n",
    "\n",
    "# 3. WAVデータを再生\n",
    "def play_audio(audio, sr):\n",
    "    sd.play(audio, sr)\n",
    "    sd.wait()\n",
    "\n",
    "# メイン処理\n",
    "if __name__ == \"__main__\":\n",
    "    # 録音した猫の声のファイル\n",
    "    cat_audio_path = \"cat1_sound.wav\"\n",
    "    cat_audio, sr = librosa.load(cat_audio_path, sr=None)\n",
    "\n",
    "    # 複数のメロディを定義\n",
    "    melody0 = [1318.51, 1318.51, 1396.913, 1567.982, 1567.982, 1396.913, 1318.51, 1174.659, 1046.502, 1046.502, 1174.659, 1318.51]\n",
    "    melody1 = [1318.51]\n",
    "    melody2 = [1174.659]\n",
    "    melody3 = [1174.659]\n",
    "    melody4 = [1318.51, 1318.51, 1396.913, 1567.982, 1567.982, 1396.913, 1318.51, 1174.659, 1046.502, 1046.502, 1174.659, 1318.51]\n",
    "    melody5 = [1174.659]\n",
    "    melody6 = [1046.502]\n",
    "    melody7 = [1046.502] \n",
    "    melody8 = [1174.659, 1174.659, 1318.51, 1046.502, 1174.659]\n",
    "    melody9 = [1318.51, 1396.913] \n",
    "    melody10 = [1318.51, 1046.502, 1174.659]\n",
    "    melody11 = [1318.51, 1396.913]\n",
    "    melody12 = [1318.51, 1174.659, 1046.502, 1174.659]\n",
    "    melody13 = [783.991]\n",
    "    melody14 = [1318.51, 1318.51, 1396.913, 1567.982, 1567.982, 1396.913, 1318.51, 1174.659, 1046.502, 1046.502, 1174.659, 1318.51]\n",
    "    melody15 = [1174.659]\n",
    "    melody16 = [1046.502]\n",
    "    melody17 = [1046.502]    \n",
    "    \n",
    "    \n",
    "    # メロディリスト\n",
    "    melodies = [melody0, melody1, melody2, melody3,melody4, melody5, melody6, melody7, melody8, \n",
    "                melody9, melody10,melody11, melody12, melody13, melody14, melody15, melody16, melody17]\n",
    "\n",
    "    # 各メロディのノートの長さ（秒）\n",
    "    durations = [0.5, 0.8, 0.4,1.0, 0.5, 0.8, 0.4,1.0, 0.5, 0.4,0.5, 0.4, 0.5, 1.0, 0.5, 0.8, 0.4,1.2]  # melody0: 0.5秒, melody1: 1秒, melody2: 0.5秒, melody3: 1秒\n",
    "\n",
    "    # 猫の声を音階に基づいて再構成\n",
    "    cat_music = generate_cat_music(cat_audio, sr, melodies, durations)\n",
    "\n",
    "    # 再生\n",
    "    play_audio(cat_music, sr)\n",
    "\n",
    "    # 保存\n",
    "    output_path = \"cat_music_Btv_S_No9.wav\"\n",
    "    sf.write(output_path, cat_music, sr)\n",
    "    print(f\"音楽データを {output_path} に保存しました。\")\n"
   ]
  },
  {
   "cell_type": "code",
   "execution_count": 39,
   "metadata": {},
   "outputs": [
    {
     "name": "stderr",
     "output_type": "stream",
     "text": [
      "C:\\Users\\Cosmo\\AppData\\Local\\Temp\\ipykernel_9788\\3299006013.py:37: UserWarning: PySoundFile failed. Trying audioread instead.\n",
      "  cat_audio, sr = librosa.load(cat_audio_path, sr=None)\n"
     ]
    },
    {
     "name": "stdout",
     "output_type": "stream",
     "text": [
      "音楽データを cat_music_Bach_JJoMD.wav に保存しました。\n"
     ]
    }
   ],
   "source": [
    "import librosa\n",
    "import numpy as np\n",
    "import sounddevice as sd\n",
    "import soundfile as sf  # ファイル保存用\n",
    "\n",
    "# 1. 猫の声のピッチを変更する関数\n",
    "def pitch_shift_cat_sound(cat_audio, sr, target_pitch):\n",
    "    pitches, magnitudes = librosa.piptrack(y=cat_audio, sr=sr)\n",
    "    avg_pitch = np.mean(pitches[pitches > 0])  # 平均ピッチを計算\n",
    "    semitones = 12 * np.log2(target_pitch / avg_pitch)  # ピッチシフト量（セミトーン）\n",
    "    shifted_audio = librosa.effects.pitch_shift(cat_audio, sr=sr, n_steps=semitones)\n",
    "    return shifted_audio\n",
    "\n",
    "# 2. 指定された音階に基づいて猫の声を生成\n",
    "def generate_cat_music(cat_audio, sr, melodies, durations):\n",
    "    music = []\n",
    "    for melody, duration_per_note in zip(melodies, durations):\n",
    "        for note_pitch in melody:\n",
    "            if note_pitch is not None:\n",
    "                shifted_audio = pitch_shift_cat_sound(cat_audio, sr, note_pitch)\n",
    "                num_samples = int(sr * duration_per_note)\n",
    "                shifted_audio = shifted_audio[:num_samples]\n",
    "                music.append(shifted_audio)\n",
    "            else:\n",
    "                music.append(np.zeros(int(sr * duration_per_note)))  # 無音（休符）\n",
    "    return np.concatenate(music)\n",
    "\n",
    "# 3. WAVデータを再生\n",
    "def play_audio(audio, sr):\n",
    "    sd.play(audio, sr)\n",
    "    sd.wait()\n",
    "\n",
    "# メイン処理\n",
    "if __name__ == \"__main__\":\n",
    "    # 録音した猫の声のファイル\n",
    "    cat_audio_path = \"cat2_sound.wav\"\n",
    "    cat_audio, sr = librosa.load(cat_audio_path, sr=None)\n",
    "\n",
    "    # 複数のメロディを定義\n",
    "    melody0 = [1567.982, 1760, 1975.533, 2349.318, 2093.005, 2093.005, 2637.02, 2349.318, 2349.318, 3135.963, 2959.955, 3135.963, 2349.318, 1975.533, 1567.982, 1760, 1975.533, 2093.005 ]\n",
    "    melody1 = [2349.318, 2637.02, 2349.318, 2093.005, 1975.533, 1760, 1975.533, 1567.982, 1479.978, 1567.982, 1760, 1174.659, 1479.978, 1760, 2093.005, 1975.533, 1760, 1975.533 ]\n",
    "    melody2 = [1567.982, 1760, 1975.533, 2349.318, 2093.005, 2093.005, 2637.02, 2349.318, 2349.318, 3135.963, 2959.955, 3135.963, 2349.318, 1975.533, 1567.982, 1760, 1975.533, 1318.51 ]\n",
    "    melody3 = [2349.318, 2093.005, 1975.533, 1760, 1567.982, 1174.659, 1567.982, 1479.978, 1567.982, 1975.533, 2349.318, 3135.963, 2349.318, 1975.533, 1567.982, 1975.533, 2349.318 ]\n",
    "    melody4 = [3135.963]\n",
    "    # メロディリスト\n",
    "    melodies = [melody0, melody1, melody2, melody3, melody4]\n",
    "\n",
    "    # 各メロディのノートの長さ（秒）\n",
    "    durations = [0.7, 0.7, 0.7,0.7, 1.2]  # melody0: 0.5秒, melody1: 1秒, melody2: 0.5秒, melody3: 1秒\n",
    "\n",
    "    # 猫の声を音階に基づいて再構成\n",
    "    cat_music = generate_cat_music(cat_audio, sr, melodies, durations)\n",
    "\n",
    "    # 再生\n",
    "    play_audio(cat_music, sr)\n",
    "\n",
    "    # 保存\n",
    "    output_path = \"cat_music_Bach_JJoMD.wav\"\n",
    "    sf.write(output_path, cat_music, sr)\n",
    "    print(f\"音楽データを {output_path} に保存しました。\")\n"
   ]
  },
  {
   "cell_type": "code",
   "execution_count": null,
   "metadata": {},
   "outputs": [],
   "source": []
  },
  {
   "cell_type": "code",
   "execution_count": null,
   "metadata": {},
   "outputs": [],
   "source": []
  }
 ],
 "metadata": {
  "kernelspec": {
   "display_name": "base",
   "language": "python",
   "name": "python3"
  },
  "language_info": {
   "codemirror_mode": {
    "name": "ipython",
    "version": 3
   },
   "file_extension": ".py",
   "mimetype": "text/x-python",
   "name": "python",
   "nbconvert_exporter": "python",
   "pygments_lexer": "ipython3",
   "version": "3.9.19"
  }
 },
 "nbformat": 4,
 "nbformat_minor": 2
}
